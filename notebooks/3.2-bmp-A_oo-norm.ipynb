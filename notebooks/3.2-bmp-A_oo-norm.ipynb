{
 "cells": [
  {
   "cell_type": "code",
   "execution_count": 1,
   "metadata": {},
   "outputs": [],
   "source": [
    "%load_ext autoreload\n",
    "%autoreload 2"
   ]
  },
  {
   "cell_type": "code",
   "execution_count": 2,
   "metadata": {},
   "outputs": [],
   "source": [
    "import torch\n",
    "import torch.nn as nn\n",
    "\n",
    "from pideq.net import PINN, PIDEQ\n",
    "from pideq.utils import load_from_wandb"
   ]
  },
  {
   "cell_type": "code",
   "execution_count": 3,
   "metadata": {},
   "outputs": [
    {
     "data": {
      "text/plain": [
       "device(type='cuda', index=0)"
      ]
     },
     "execution_count": 3,
     "metadata": {},
     "output_type": "execute_result"
    }
   ],
   "source": [
    "device = torch.device(\"cuda:0\" if torch.cuda.is_available() else \"cpu\")\n",
    "device"
   ]
  },
  {
   "cell_type": "code",
   "execution_count": 6,
   "metadata": {},
   "outputs": [
    {
     "name": "stdout",
     "output_type": "stream",
     "text": [
      "Starting norm:\n"
     ]
    },
    {
     "data": {
      "text/plain": [
       "[0.5804398655891418,\n",
       " 0.5635671019554138,\n",
       " 0.5803958773612976,\n",
       " 0.5634551048278809,\n",
       " 0.5671279430389404,\n",
       " 0.5852261781692505,\n",
       " 0.5741332769393921,\n",
       " 0.5819218158721924,\n",
       " 0.5611128807067871,\n",
       " 0.5694847702980042]"
      ]
     },
     "execution_count": 6,
     "metadata": {},
     "output_type": "execute_result"
    }
   ],
   "source": [
    "print('Starting norm:')\n",
    "\n",
    "norms = list()\n",
    "for _ in range(10):\n",
    "    deq = PIDEQ(torch.pi / 2)\n",
    "    norms.append(torch.linalg.norm(deq.A.weight, ord=torch.inf).item())\n",
    "norms"
   ]
  },
  {
   "cell_type": "code",
   "execution_count": 8,
   "metadata": {},
   "outputs": [
    {
     "data": {
      "text/plain": [
       "19.786453247070312"
      ]
     },
     "execution_count": 8,
     "metadata": {},
     "output_type": "execute_result"
    }
   ],
   "source": [
    "pinn = load_from_wandb(PINN(torch.pi / 2, n_hidden=4, n_nodes=100), '2n1n4ml0', project='pideq-nls', model_fname='model_last')\n",
    "\n",
    "deq = PIDEQ.from_pinn(pinn)\n",
    "torch.linalg.norm(deq.A.weight, ord=torch.inf).item()"
   ]
  }
 ],
 "metadata": {
  "kernelspec": {
   "display_name": "Python 3.8.13 ('pideq')",
   "language": "python",
   "name": "python3"
  },
  "language_info": {
   "codemirror_mode": {
    "name": "ipython",
    "version": 3
   },
   "file_extension": ".py",
   "mimetype": "text/x-python",
   "name": "python",
   "nbconvert_exporter": "python",
   "pygments_lexer": "ipython3",
   "version": "3.8.13"
  },
  "orig_nbformat": 4,
  "vscode": {
   "interpreter": {
    "hash": "1c133d79536328239a752ebef52a4f7bc03bc34697b425ce6d76fe4a523f5c27"
   }
  }
 },
 "nbformat": 4,
 "nbformat_minor": 2
}
