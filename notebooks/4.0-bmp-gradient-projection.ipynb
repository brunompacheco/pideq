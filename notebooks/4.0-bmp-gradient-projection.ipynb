{
 "cells": [
  {
   "cell_type": "code",
   "execution_count": 1,
   "metadata": {},
   "outputs": [],
   "source": [
    "%load_ext autoreload\n",
    "%autoreload 2"
   ]
  },
  {
   "cell_type": "code",
   "execution_count": 19,
   "metadata": {},
   "outputs": [],
   "source": [
    "import cvxpy as cp\n",
    "import numpy as np\n",
    "import torch\n",
    "import torch.nn as nn\n",
    "\n",
    "from multiprocessing import Pool\n",
    "\n",
    "from pideq.net import PIDEQ\n",
    "from pideq.utils import load_from_wandb"
   ]
  },
  {
   "cell_type": "code",
   "execution_count": 3,
   "metadata": {},
   "outputs": [
    {
     "data": {
      "text/plain": [
       "device(type='cuda', index=0)"
      ]
     },
     "execution_count": 3,
     "metadata": {},
     "output_type": "execute_result"
    }
   ],
   "source": [
    "device = torch.device(\"cuda:0\" if torch.cuda.is_available() else \"cpu\")\n",
    "device"
   ]
  },
  {
   "cell_type": "code",
   "execution_count": 4,
   "metadata": {},
   "outputs": [
    {
     "data": {
      "text/plain": [
       "PIDEQ(\n",
       "  (A): Linear(in_features=200, out_features=200, bias=True)\n",
       "  (B): Linear(in_features=2, out_features=200, bias=True)\n",
       "  (C): Linear(in_features=200, out_features=2, bias=True)\n",
       "  (D): Linear(in_features=2, out_features=2, bias=True)\n",
       ")"
      ]
     },
     "execution_count": 4,
     "metadata": {},
     "output_type": "execute_result"
    }
   ],
   "source": [
    "deq = load_from_wandb(PIDEQ(np.pi / 2, n_states=200), '2qka16vc', project='pideq-nls', model_fname='model_best')\n",
    "deq"
   ]
  },
  {
   "cell_type": "code",
   "execution_count": 5,
   "metadata": {},
   "outputs": [
    {
     "data": {
      "text/plain": [
       "7.147842"
      ]
     },
     "execution_count": 5,
     "metadata": {},
     "output_type": "execute_result"
    }
   ],
   "source": [
    "A0 = deq.A.weight.detach().numpy()\n",
    "np.linalg.norm(A0, ord=np.inf)"
   ]
  },
  {
   "cell_type": "markdown",
   "metadata": {},
   "source": [
    "### Full optimization"
   ]
  },
  {
   "cell_type": "code",
   "execution_count": 6,
   "metadata": {},
   "outputs": [
    {
     "name": "stdout",
     "output_type": "stream",
     "text": [
      "CPU times: user 3.07 s, sys: 27 ms, total: 3.09 s\n",
      "Wall time: 3.09 s\n"
     ]
    },
    {
     "data": {
      "text/plain": [
       "'optimal'"
      ]
     },
     "execution_count": 6,
     "metadata": {},
     "output_type": "execute_result"
    }
   ],
   "source": [
    "%%time\n",
    "kappa = .9\n",
    "A = cp.Variable(A0.shape, complex=False)\n",
    "\n",
    "constraint = [cp.norm(A, p='inf') <= kappa,]\n",
    "\n",
    "prob = cp.Problem(cp.Minimize(cp.norm(A - A0, p='fro')), constraint)\n",
    "prob.solve(verbose=False)\n",
    "prob.status"
   ]
  },
  {
   "cell_type": "code",
   "execution_count": 7,
   "metadata": {},
   "outputs": [
    {
     "data": {
      "text/plain": [
       "2.7698592994118885"
      ]
     },
     "execution_count": 7,
     "metadata": {},
     "output_type": "execute_result"
    }
   ],
   "source": [
    "np.linalg.norm(A.value - A0, ord='fro')"
   ]
  },
  {
   "cell_type": "markdown",
   "metadata": {},
   "source": [
    "### Decomposition in rows"
   ]
  },
  {
   "cell_type": "code",
   "execution_count": 8,
   "metadata": {},
   "outputs": [
    {
     "name": "stdout",
     "output_type": "stream",
     "text": [
      "CPU times: user 1.87 s, sys: 19.7 ms, total: 1.89 s\n",
      "Wall time: 1.29 s\n"
     ]
    }
   ],
   "source": [
    "%%time\n",
    "kappa = .9\n",
    "A_rows = list()\n",
    "\n",
    "for i in range(A0.shape[0]):\n",
    "    a = cp.Variable(A0.shape[1], complex=False)\n",
    "\n",
    "    constraint = [cp.norm(a, p=1) <= kappa,]\n",
    "\n",
    "    prob = cp.Problem(cp.Minimize(cp.norm(a - A0[i], p=2)), constraint)\n",
    "    prob.solve(verbose=False)\n",
    "\n",
    "    A_rows.append(a.value)\n",
    "A = np.vstack(A_rows)"
   ]
  },
  {
   "cell_type": "code",
   "execution_count": 9,
   "metadata": {},
   "outputs": [
    {
     "data": {
      "text/plain": [
       "0.8999999999421489"
      ]
     },
     "execution_count": 9,
     "metadata": {},
     "output_type": "execute_result"
    }
   ],
   "source": [
    "np.linalg.norm(A, ord=np.inf)"
   ]
  },
  {
   "cell_type": "code",
   "execution_count": 10,
   "metadata": {},
   "outputs": [
    {
     "data": {
      "text/plain": [
       "2.7698593009135677"
      ]
     },
     "execution_count": 10,
     "metadata": {},
     "output_type": "execute_result"
    }
   ],
   "source": [
    "np.linalg.norm(A - A0, ord='fro')"
   ]
  },
  {
   "cell_type": "markdown",
   "metadata": {},
   "source": [
    "### Simultaneous"
   ]
  },
  {
   "cell_type": "code",
   "execution_count": 37,
   "metadata": {},
   "outputs": [
    {
     "name": "stdout",
     "output_type": "stream",
     "text": [
      "CPU times: user 2.2 s, sys: 17.9 ms, total: 2.22 s\n",
      "Wall time: 2.22 s\n"
     ]
    },
    {
     "data": {
      "text/plain": [
       "37.181250557840045"
      ]
     },
     "execution_count": 37,
     "metadata": {},
     "output_type": "execute_result"
    }
   ],
   "source": [
    "%%time\n",
    "kappa = .9\n",
    "A = cp.Variable(A0.shape, complex=False)\n",
    "\n",
    "cost = None\n",
    "constraints = list()\n",
    "for i in range(A0.shape[0]):\n",
    "    constraints.append(cp.norm(A[i], p=1) <= kappa)\n",
    "    if cost is None:\n",
    "        cost = cp.norm(A[i] - A0[i], p=2)\n",
    "    else:\n",
    "        cost += cp.norm(A[i] - A0[i], p=2)\n",
    "\n",
    "prob = cp.Problem(cp.Minimize(cost), constraints)\n",
    "prob.solve(verbose=False)"
   ]
  },
  {
   "cell_type": "code",
   "execution_count": 12,
   "metadata": {},
   "outputs": [
    {
     "data": {
      "text/plain": [
       "0.899999999669481"
      ]
     },
     "execution_count": 12,
     "metadata": {},
     "output_type": "execute_result"
    }
   ],
   "source": [
    "np.linalg.norm(A.value, ord=np.inf)"
   ]
  },
  {
   "cell_type": "code",
   "execution_count": 13,
   "metadata": {},
   "outputs": [
    {
     "data": {
      "text/plain": [
       "2.7698593000384606"
      ]
     },
     "execution_count": 13,
     "metadata": {},
     "output_type": "execute_result"
    }
   ],
   "source": [
    "np.linalg.norm(A.value - A0, ord='fro')"
   ]
  },
  {
   "cell_type": "markdown",
   "metadata": {},
   "source": [
    "### Parallel (multiprocessing.Pool)"
   ]
  },
  {
   "cell_type": "code",
   "execution_count": 91,
   "metadata": {},
   "outputs": [
    {
     "name": "stdout",
     "output_type": "stream",
     "text": [
      "CPU times: user 40.9 ms, sys: 547 ms, total: 588 ms\n",
      "Wall time: 721 ms\n"
     ]
    }
   ],
   "source": [
    "%%time\n",
    "kappa = .9\n",
    "A_rows = list()\n",
    "\n",
    "a = cp.Variable(A0.shape[1], complex=False)\n",
    "a0 = cp.Parameter(A0.shape[1], complex=False)\n",
    "\n",
    "constraint = [cp.norm(a, p=1) <= kappa,]\n",
    "\n",
    "prob = cp.Problem(cp.Minimize(cp.norm(a - a0, p=2)), constraint)\n",
    "\n",
    "pool = Pool()\n",
    "\n",
    "def get_a(i):\n",
    "    a0.value = A0[i]\n",
    "    prob.solve()\n",
    "\n",
    "    return a.value\n",
    "\n",
    "A_rows = pool.map(get_a, list(range(A0.shape[0])))\n",
    "A = np.vstack(A_rows)"
   ]
  },
  {
   "cell_type": "code",
   "execution_count": 92,
   "metadata": {},
   "outputs": [
    {
     "data": {
      "text/plain": [
       "0.8999999999421489"
      ]
     },
     "execution_count": 92,
     "metadata": {},
     "output_type": "execute_result"
    }
   ],
   "source": [
    "np.linalg.norm(A, ord=np.inf)"
   ]
  },
  {
   "cell_type": "code",
   "execution_count": 93,
   "metadata": {},
   "outputs": [
    {
     "data": {
      "text/plain": [
       "2.7698593009135677"
      ]
     },
     "execution_count": 93,
     "metadata": {},
     "output_type": "execute_result"
    }
   ],
   "source": [
    "np.linalg.norm(A - A0, ord='fro')"
   ]
  }
 ],
 "metadata": {
  "kernelspec": {
   "display_name": "Python 3.8.13 ('pideq')",
   "language": "python",
   "name": "python3"
  },
  "language_info": {
   "codemirror_mode": {
    "name": "ipython",
    "version": 3
   },
   "file_extension": ".py",
   "mimetype": "text/x-python",
   "name": "python",
   "nbconvert_exporter": "python",
   "pygments_lexer": "ipython3",
   "version": "3.8.13"
  },
  "orig_nbformat": 4,
  "vscode": {
   "interpreter": {
    "hash": "1c133d79536328239a752ebef52a4f7bc03bc34697b425ce6d76fe4a523f5c27"
   }
  }
 },
 "nbformat": 4,
 "nbformat_minor": 2
}
