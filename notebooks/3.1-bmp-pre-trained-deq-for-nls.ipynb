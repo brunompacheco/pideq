{
 "cells": [
  {
   "cell_type": "code",
   "execution_count": 1,
   "metadata": {},
   "outputs": [],
   "source": [
    "%load_ext autoreload\n",
    "%autoreload 2"
   ]
  },
  {
   "cell_type": "code",
   "execution_count": 6,
   "metadata": {},
   "outputs": [],
   "source": [
    "import numpy as np\n",
    "import torch\n",
    "import torch.nn as nn\n",
    "\n",
    "from pideq.net import PINN, PIDEQ\n",
    "from pideq.utils import load_from_wandb\n",
    "from pideq.trainer import PINNTrainer"
   ]
  },
  {
   "cell_type": "code",
   "execution_count": 16,
   "metadata": {},
   "outputs": [
    {
     "data": {
      "text/plain": [
       "device(type='cuda', index=0)"
      ]
     },
     "execution_count": 16,
     "metadata": {},
     "output_type": "execute_result"
    }
   ],
   "source": [
    "device = torch.device(\"cuda:0\" if torch.cuda.is_available() else \"cpu\")\n",
    "device"
   ]
  },
  {
   "cell_type": "code",
   "execution_count": 17,
   "metadata": {},
   "outputs": [
    {
     "data": {
      "text/plain": [
       "PIDEQ(\n",
       "  (B): Linear(in_features=400, out_features=400, bias=True)\n",
       "  (A): Linear(in_features=2, out_features=400, bias=True)\n",
       "  (h): Linear(in_features=400, out_features=2, bias=True)\n",
       ")"
      ]
     },
     "execution_count": 17,
     "metadata": {},
     "output_type": "execute_result"
    }
   ],
   "source": [
    "pinn = load_from_wandb(PINN(np.pi / 2, n_hidden=4, n_nodes=100), '2n1n4ml0', project='pideq-nls', model_fname='model_last')\n",
    "pinn.eval().to(device)\n",
    "\n",
    "deq = PIDEQ.from_pinn(pinn)\n",
    "deq.eval().to(device)"
   ]
  },
  {
   "cell_type": "code",
   "execution_count": 34,
   "metadata": {},
   "outputs": [],
   "source": [
    "tr = PINNTrainer(PINN(np.pi / 2))\n",
    "tr.prepare_data()\n",
    "(t, x), Y = tr.val_data\n",
    "\n",
    "h = torch.sqrt(Y[:,0]**2 + Y[:,1]**2)"
   ]
  },
  {
   "cell_type": "code",
   "execution_count": 35,
   "metadata": {},
   "outputs": [],
   "source": [
    "with torch.no_grad():\n",
    "    Y_pred_pinn = pinn(t, x)\n",
    "    Y_pred_deq = deq(t, x)\n",
    "\n",
    "    h_pred_pinn = torch.sqrt(Y_pred_pinn[:,0]**2 + Y_pred_pinn[:,1]**2)\n",
    "    h_pred_deq = torch.sqrt(Y_pred_deq[:,0]**2 + Y_pred_deq[:,1]**2)"
   ]
  },
  {
   "cell_type": "code",
   "execution_count": 39,
   "metadata": {},
   "outputs": [
    {
     "data": {
      "text/plain": [
       "tensor(0.0173, device='cuda:0')"
      ]
     },
     "execution_count": 39,
     "metadata": {},
     "output_type": "execute_result"
    }
   ],
   "source": [
    "torch.linalg.norm(h - h_pred_pinn, 2) / torch.linalg.norm(h_pred_pinn)"
   ]
  },
  {
   "cell_type": "code",
   "execution_count": 38,
   "metadata": {},
   "outputs": [
    {
     "data": {
      "text/plain": [
       "tensor(0.0173, device='cuda:0')"
      ]
     },
     "execution_count": 38,
     "metadata": {},
     "output_type": "execute_result"
    }
   ],
   "source": [
    "torch.linalg.norm(h - h_pred_deq, 2) / torch.linalg.norm(h_pred_deq)"
   ]
  }
 ],
 "metadata": {
  "kernelspec": {
   "display_name": "Python 3.8.13 ('pideq')",
   "language": "python",
   "name": "python3"
  },
  "language_info": {
   "codemirror_mode": {
    "name": "ipython",
    "version": 3
   },
   "file_extension": ".py",
   "mimetype": "text/x-python",
   "name": "python",
   "nbconvert_exporter": "python",
   "pygments_lexer": "ipython3",
   "version": "3.8.13"
  },
  "orig_nbformat": 4,
  "vscode": {
   "interpreter": {
    "hash": "76e517517d3f93e7eb9ebf3e50a46788dab0d10ec868053dc585cc83b37e8a32"
   }
  }
 },
 "nbformat": 4,
 "nbformat_minor": 2
}
