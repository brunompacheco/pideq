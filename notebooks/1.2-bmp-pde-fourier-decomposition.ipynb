{
 "cells": [
  {
   "cell_type": "code",
   "execution_count": 1,
   "metadata": {},
   "outputs": [],
   "source": [
    "%load_ext autoreload\n",
    "%autoreload 2"
   ]
  },
  {
   "cell_type": "code",
   "execution_count": 4,
   "metadata": {},
   "outputs": [],
   "source": [
    "import matplotlib.pyplot as plt\n",
    "import numpy as np\n",
    "import torch\n",
    "\n",
    "from torchdiffeq import odeint"
   ]
  },
  {
   "cell_type": "code",
   "execution_count": 5,
   "metadata": {},
   "outputs": [
    {
     "data": {
      "text/plain": [
       "device(type='cuda', index=0)"
      ]
     },
     "execution_count": 5,
     "metadata": {},
     "output_type": "execute_result"
    }
   ],
   "source": [
    "device = torch.device(\"cuda:0\" if torch.cuda.is_available() else \"cpu\")\n",
    "device"
   ]
  },
  {
   "cell_type": "code",
   "execution_count": 63,
   "metadata": {},
   "outputs": [
    {
     "data": {
      "image/png": "[encoded data removed]",
      "text/plain": [
       "<Figure size 432x288 with 1 Axes>"
      ]
     },
     "metadata": {
      "needs_background": "light"
     },
     "output_type": "display_data"
    }
   ],
   "source": [
    "''' ==== u_t = u_xx ====\n",
    "'''\n",
    "L = 100  # [-5, 5]\n",
    "N = 1000 + 1\n",
    "dx = L / N\n",
    "x = torch.arange(-L/2, L/2, dx)\n",
    "\n",
    "# frequencies\n",
    "kappa = 2 * torch.pi * torch.fft.fftfreq(N, dx)\n",
    "\n",
    "# initial conditions\n",
    "u0 = torch.complex(4 / (torch.exp(x) + torch.exp(-x)))\n",
    "\n",
    "plt.plot(x.numpy(), u0.numpy())\n",
    "plt.suptitle('Initial Conditions')\n",
    "plt.show()"
   ]
  },
  {
   "cell_type": "code",
   "execution_count": 64,
   "metadata": {},
   "outputs": [],
   "source": [
    "# simulation setup\n",
    "dt = .1\n",
    "T = 10\n",
    "t = torch.arange(0,T,dt)"
   ]
  },
  {
   "cell_type": "code",
   "execution_count": 71,
   "metadata": {},
   "outputs": [
    {
     "ename": "TypeError",
     "evalue": "`y0` must be a floating point Tensor but is a torch.ComplexFloatTensor",
     "output_type": "error",
     "traceback": [
      "\u001b[0;31m---------------------------------------------------------------------------\u001b[0m",
      "\u001b[0;31mTypeError\u001b[0m                                 Traceback (most recent call last)",
      "\u001b[1;32m/mnt/hdd/Desktop/pideq/notebooks/1.2-bmp-pde-fourier-decomposition.ipynb Cell 6\u001b[0m in \u001b[0;36m<cell line: 5>\u001b[0;34m()\u001b[0m\n\u001b[1;32m      <a href='vscode-notebook-cell:/mnt/hdd/Desktop/pideq/notebooks/1.2-bmp-pde-fourier-decomposition.ipynb#W5sZmlsZQ%3D%3D?line=1'>2</a>\u001b[0m     \u001b[39mreturn\u001b[39;00m \u001b[39m-\u001b[39m torch\u001b[39m.\u001b[39mpow(kappa, \u001b[39m2\u001b[39m) \u001b[39m*\u001b[39m uhat\n\u001b[1;32m      <a href='vscode-notebook-cell:/mnt/hdd/Desktop/pideq/notebooks/1.2-bmp-pde-fourier-decomposition.ipynb#W5sZmlsZQ%3D%3D?line=3'>4</a>\u001b[0m u0hat \u001b[39m=\u001b[39m torch\u001b[39m.\u001b[39mfft\u001b[39m.\u001b[39mfft(u0)\n\u001b[0;32m----> <a href='vscode-notebook-cell:/mnt/hdd/Desktop/pideq/notebooks/1.2-bmp-pde-fourier-decomposition.ipynb#W5sZmlsZQ%3D%3D?line=4'>5</a>\u001b[0m uhat \u001b[39m=\u001b[39m odeint(rhs, u0hat, t, method\u001b[39m=\u001b[39;49m\u001b[39m'\u001b[39;49m\u001b[39mrk4\u001b[39;49m\u001b[39m'\u001b[39;49m)\n\u001b[1;32m      <a href='vscode-notebook-cell:/mnt/hdd/Desktop/pideq/notebooks/1.2-bmp-pde-fourier-decomposition.ipynb#W5sZmlsZQ%3D%3D?line=6'>7</a>\u001b[0m u \u001b[39m=\u001b[39m torch\u001b[39m.\u001b[39mzeros_like(uhat)\n\u001b[1;32m      <a href='vscode-notebook-cell:/mnt/hdd/Desktop/pideq/notebooks/1.2-bmp-pde-fourier-decomposition.ipynb#W5sZmlsZQ%3D%3D?line=7'>8</a>\u001b[0m u \u001b[39m=\u001b[39m u\u001b[39m.\u001b[39mtype(torch\u001b[39m.\u001b[39mcomplex64)\n",
      "File \u001b[0;32m~/miniconda3/envs/pideq/lib/python3.8/site-packages/torchdiffeq/_impl/odeint.py:72\u001b[0m, in \u001b[0;36modeint\u001b[0;34m(func, y0, t, rtol, atol, method, options, event_fn)\u001b[0m\n\u001b[1;32m     31\u001b[0m \u001b[39mdef\u001b[39;00m \u001b[39modeint\u001b[39m(func, y0, t, \u001b[39m*\u001b[39m, rtol\u001b[39m=\u001b[39m\u001b[39m1e-7\u001b[39m, atol\u001b[39m=\u001b[39m\u001b[39m1e-9\u001b[39m, method\u001b[39m=\u001b[39m\u001b[39mNone\u001b[39;00m, options\u001b[39m=\u001b[39m\u001b[39mNone\u001b[39;00m, event_fn\u001b[39m=\u001b[39m\u001b[39mNone\u001b[39;00m):\n\u001b[1;32m     32\u001b[0m     \u001b[39m\"\"\"Integrate a system of ordinary differential equations.\u001b[39;00m\n\u001b[1;32m     33\u001b[0m \n\u001b[1;32m     34\u001b[0m \u001b[39m    Solves the initial value problem for a non-stiff system of first order ODEs:\u001b[39;00m\n\u001b[0;32m   (...)\u001b[0m\n\u001b[1;32m     69\u001b[0m \u001b[39m        ValueError: if an invalid `method` is provided.\u001b[39;00m\n\u001b[1;32m     70\u001b[0m \u001b[39m    \"\"\"\u001b[39;00m\n\u001b[0;32m---> 72\u001b[0m     shapes, func, y0, t, rtol, atol, method, options, event_fn, t_is_reversed \u001b[39m=\u001b[39m _check_inputs(func, y0, t, rtol, atol, method, options, event_fn, SOLVERS)\n\u001b[1;32m     74\u001b[0m     solver \u001b[39m=\u001b[39m SOLVERS[method](func\u001b[39m=\u001b[39mfunc, y0\u001b[39m=\u001b[39my0, rtol\u001b[39m=\u001b[39mrtol, atol\u001b[39m=\u001b[39matol, \u001b[39m*\u001b[39m\u001b[39m*\u001b[39moptions)\n\u001b[1;32m     76\u001b[0m     \u001b[39mif\u001b[39;00m event_fn \u001b[39mis\u001b[39;00m \u001b[39mNone\u001b[39;00m:\n",
      "File \u001b[0;32m~/miniconda3/envs/pideq/lib/python3.8/site-packages/torchdiffeq/_impl/misc.py:213\u001b[0m, in \u001b[0;36m_check_inputs\u001b[0;34m(func, y0, t, rtol, atol, method, options, event_fn, SOLVERS)\u001b[0m\n\u001b[1;32m    211\u001b[0m     \u001b[39mif\u001b[39;00m event_fn \u001b[39mis\u001b[39;00m \u001b[39mnot\u001b[39;00m \u001b[39mNone\u001b[39;00m:\n\u001b[1;32m    212\u001b[0m         event_fn \u001b[39m=\u001b[39m _TupleInputOnlyFunc(event_fn, shapes)\n\u001b[0;32m--> 213\u001b[0m _assert_floating(\u001b[39m'\u001b[39;49m\u001b[39my0\u001b[39;49m\u001b[39m'\u001b[39;49m, y0)\n\u001b[1;32m    215\u001b[0m \u001b[39m# Normalise method and options\u001b[39;00m\n\u001b[1;32m    216\u001b[0m \u001b[39mif\u001b[39;00m options \u001b[39mis\u001b[39;00m \u001b[39mNone\u001b[39;00m:\n",
      "File \u001b[0;32m~/miniconda3/envs/pideq/lib/python3.8/site-packages/torchdiffeq/_impl/misc.py:106\u001b[0m, in \u001b[0;36m_assert_floating\u001b[0;34m(name, t)\u001b[0m\n\u001b[1;32m    104\u001b[0m \u001b[39mdef\u001b[39;00m \u001b[39m_assert_floating\u001b[39m(name, t):\n\u001b[1;32m    105\u001b[0m     \u001b[39mif\u001b[39;00m \u001b[39mnot\u001b[39;00m torch\u001b[39m.\u001b[39mis_floating_point(t):\n\u001b[0;32m--> 106\u001b[0m         \u001b[39mraise\u001b[39;00m \u001b[39mTypeError\u001b[39;00m(\u001b[39m'\u001b[39m\u001b[39m`\u001b[39m\u001b[39m{}\u001b[39;00m\u001b[39m` must be a floating point Tensor but is a \u001b[39m\u001b[39m{}\u001b[39;00m\u001b[39m'\u001b[39m\u001b[39m.\u001b[39mformat(name, t\u001b[39m.\u001b[39mtype()))\n",
      "\u001b[0;31mTypeError\u001b[0m: `y0` must be a floating point Tensor but is a torch.ComplexFloatTensor"
     ]
    }
   ],
   "source": [
    "def rhs(t, uhat):\n",
    "    return - torch.pow(kappa, 2) * uhat\n",
    "\n",
    "u0hat = torch.fft.fft(u0)\n",
    "uhat = odeint(rhs, u0hat, t, method='rk4')\n",
    "\n",
    "u = torch.zeros_like(uhat)\n",
    "u = u.type(torch.complex64)\n",
    "for t_i in range(len(t)):\n",
    "    u[t_i,:] = torch.fft.ifft(uhat[t_i,:])\n",
    "\n",
    "u"
   ]
  },
  {
   "cell_type": "code",
   "execution_count": 56,
   "metadata": {},
   "outputs": [
    {
     "data": {
      "text/plain": [
       "tensor([ 1.7573e+28-0.0000e+00j, -1.7169e+28-2.4131e+20j,\n",
       "         1.6039e+28+1.3443e+20j,  ...,\n",
       "        -1.4402e+28+3.5506e+20j,  1.6039e+28-1.3443e+20j,\n",
       "        -1.7169e+28+2.4131e+20j])"
      ]
     },
     "execution_count": 56,
     "metadata": {},
     "output_type": "execute_result"
    }
   ],
   "source": [
    "u[2]"
   ]
  },
  {
   "cell_type": "code",
   "execution_count": 68,
   "metadata": {},
   "outputs": [
    {
     "data": {
      "text/plain": [
       "[<matplotlib.lines.Line2D at 0x7f9e80bd5940>]"
      ]
     },
     "execution_count": 68,
     "metadata": {},
     "output_type": "execute_result"
    },
    {
     "data": {
      "image/png": "[encoded data removed]",
      "text/plain": [
       "<Figure size 432x288 with 1 Axes>"
      ]
     },
     "metadata": {
      "needs_background": "light"
     },
     "output_type": "display_data"
    }
   ],
   "source": [
    "plt.plot(u[0].numpy().real)"
   ]
  },
  {
   "cell_type": "code",
   "execution_count": 8,
   "metadata": {},
   "outputs": [
    {
     "data": {
      "text/plain": [
       "array([0, 1, 2])"
      ]
     },
     "execution_count": 8,
     "metadata": {},
     "output_type": "execute_result"
    }
   ],
   "source": [
    "a = np.array([2,2,2])\n",
    "\n",
    "np.arange(a.shape[0])"
   ]
  }
 ],
 "metadata": {
  "kernelspec": {
   "display_name": "Python 3.8.13 ('pideq')",
   "language": "python",
   "name": "python3"
  },
  "language_info": {
   "codemirror_mode": {
    "name": "ipython",
    "version": 3
   },
   "file_extension": ".py",
   "mimetype": "text/x-python",
   "name": "python",
   "nbconvert_exporter": "python",
   "pygments_lexer": "ipython3",
   "version": "3.8.13"
  },
  "orig_nbformat": 4,
  "vscode": {
   "interpreter": {
    "hash": "76e517517d3f93e7eb9ebf3e50a46788dab0d10ec868053dc585cc83b37e8a32"
   }
  }
 },
 "nbformat": 4,
 "nbformat_minor": 2
}
